{
 "cells": [
  {
   "cell_type": "markdown",
   "id": "6f8579c3",
   "metadata": {},
   "source": [
    "## Classes"
   ]
  },
  {
   "cell_type": "code",
   "execution_count": 5,
   "id": "c9d38073",
   "metadata": {},
   "outputs": [],
   "source": [
    "class Dog():\n",
    "    def __init__(self, breed, age, name):\n",
    "        self.breed = breed\n",
    "        self.age = age\n",
    "        self.name = name\n",
    "        \n",
    "    def years_older(self, age):\n",
    "        "
   ]
  },
  {
   "cell_type": "code",
   "execution_count": 7,
   "id": "2813ba9b",
   "metadata": {},
   "outputs": [],
   "source": [
    "pistol_dog = Dog(\"Golden\", 3, \"Pistol\")"
   ]
  },
  {
   "cell_type": "code",
   "execution_count": 11,
   "id": "8161f195",
   "metadata": {},
   "outputs": [
    {
     "data": {
      "text/plain": [
       "'Pistol'"
      ]
     },
     "execution_count": 11,
     "metadata": {},
     "output_type": "execute_result"
    }
   ],
   "source": [
    "pistol_dog.name"
   ]
  },
  {
   "cell_type": "code",
   "execution_count": null,
   "id": "bb5795fa",
   "metadata": {},
   "outputs": [],
   "source": []
  }
 ],
 "metadata": {
  "kernelspec": {
   "display_name": "Python 3 (ipykernel)",
   "language": "python",
   "name": "python3"
  },
  "language_info": {
   "codemirror_mode": {
    "name": "ipython",
    "version": 3
   },
   "file_extension": ".py",
   "mimetype": "text/x-python",
   "name": "python",
   "nbconvert_exporter": "python",
   "pygments_lexer": "ipython3",
   "version": "3.11.5"
  }
 },
 "nbformat": 4,
 "nbformat_minor": 5
}
